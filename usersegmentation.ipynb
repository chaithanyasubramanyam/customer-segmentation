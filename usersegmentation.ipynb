{
 "cells": [
  {
   "cell_type": "code",
   "execution_count": 4,
   "metadata": {},
   "outputs": [],
   "source": [
    "import pandas as pd \n",
    "import numpy as np \n",
    "\n",
    "data = pd.read_csv('transaction_data.csv')\n"
   ]
  },
  {
   "cell_type": "code",
   "execution_count": 5,
   "metadata": {},
   "outputs": [
    {
     "data": {
      "text/html": [
       "<div>\n",
       "<style scoped>\n",
       "    .dataframe tbody tr th:only-of-type {\n",
       "        vertical-align: middle;\n",
       "    }\n",
       "\n",
       "    .dataframe tbody tr th {\n",
       "        vertical-align: top;\n",
       "    }\n",
       "\n",
       "    .dataframe thead th {\n",
       "        text-align: right;\n",
       "    }\n",
       "</style>\n",
       "<table border=\"1\" class=\"dataframe\">\n",
       "  <thead>\n",
       "    <tr style=\"text-align: right;\">\n",
       "      <th></th>\n",
       "      <th>UserId</th>\n",
       "      <th>TransactionId</th>\n",
       "      <th>TransactionTime</th>\n",
       "      <th>ItemCode</th>\n",
       "      <th>ItemDescription</th>\n",
       "      <th>NumberOfItemsPurchased</th>\n",
       "      <th>CostPerItem</th>\n",
       "      <th>Country</th>\n",
       "    </tr>\n",
       "  </thead>\n",
       "  <tbody>\n",
       "    <tr>\n",
       "      <td>0</td>\n",
       "      <td>278166</td>\n",
       "      <td>6355745</td>\n",
       "      <td>Sat Feb 02 12:50:00 IST 2019</td>\n",
       "      <td>465549</td>\n",
       "      <td>FAMILY ALBUM WHITE PICTURE FRAME</td>\n",
       "      <td>6</td>\n",
       "      <td>11.73</td>\n",
       "      <td>United Kingdom</td>\n",
       "    </tr>\n",
       "    <tr>\n",
       "      <td>1</td>\n",
       "      <td>337701</td>\n",
       "      <td>6283376</td>\n",
       "      <td>Wed Dec 26 09:06:00 IST 2018</td>\n",
       "      <td>482370</td>\n",
       "      <td>LONDON BUS COFFEE MUG</td>\n",
       "      <td>3</td>\n",
       "      <td>3.52</td>\n",
       "      <td>United Kingdom</td>\n",
       "    </tr>\n",
       "    <tr>\n",
       "      <td>2</td>\n",
       "      <td>267099</td>\n",
       "      <td>6385599</td>\n",
       "      <td>Fri Feb 15 09:45:00 IST 2019</td>\n",
       "      <td>490728</td>\n",
       "      <td>SET 12 COLOUR PENCILS DOLLY GIRL</td>\n",
       "      <td>72</td>\n",
       "      <td>0.90</td>\n",
       "      <td>France</td>\n",
       "    </tr>\n",
       "    <tr>\n",
       "      <td>3</td>\n",
       "      <td>380478</td>\n",
       "      <td>6044973</td>\n",
       "      <td>Fri Jun 22 07:14:00 IST 2018</td>\n",
       "      <td>459186</td>\n",
       "      <td>UNION JACK FLAG LUGGAGE TAG</td>\n",
       "      <td>3</td>\n",
       "      <td>1.73</td>\n",
       "      <td>United Kingdom</td>\n",
       "    </tr>\n",
       "    <tr>\n",
       "      <td>4</td>\n",
       "      <td>-1</td>\n",
       "      <td>6143225</td>\n",
       "      <td>Mon Sep 10 11:58:00 IST 2018</td>\n",
       "      <td>1733592</td>\n",
       "      <td>WASHROOM METAL SIGN</td>\n",
       "      <td>3</td>\n",
       "      <td>3.40</td>\n",
       "      <td>United Kingdom</td>\n",
       "    </tr>\n",
       "  </tbody>\n",
       "</table>\n",
       "</div>"
      ],
      "text/plain": [
       "   UserId  TransactionId               TransactionTime  ItemCode  \\\n",
       "0  278166        6355745  Sat Feb 02 12:50:00 IST 2019    465549   \n",
       "1  337701        6283376  Wed Dec 26 09:06:00 IST 2018    482370   \n",
       "2  267099        6385599  Fri Feb 15 09:45:00 IST 2019    490728   \n",
       "3  380478        6044973  Fri Jun 22 07:14:00 IST 2018    459186   \n",
       "4      -1        6143225  Mon Sep 10 11:58:00 IST 2018   1733592   \n",
       "\n",
       "                     ItemDescription  NumberOfItemsPurchased  CostPerItem  \\\n",
       "0   FAMILY ALBUM WHITE PICTURE FRAME                       6        11.73   \n",
       "1              LONDON BUS COFFEE MUG                       3         3.52   \n",
       "2  SET 12 COLOUR PENCILS DOLLY GIRL                       72         0.90   \n",
       "3        UNION JACK FLAG LUGGAGE TAG                       3         1.73   \n",
       "4                WASHROOM METAL SIGN                       3         3.40   \n",
       "\n",
       "          Country  \n",
       "0  United Kingdom  \n",
       "1  United Kingdom  \n",
       "2          France  \n",
       "3  United Kingdom  \n",
       "4  United Kingdom  "
      ]
     },
     "execution_count": 5,
     "metadata": {},
     "output_type": "execute_result"
    }
   ],
   "source": [
    "#colums\n",
    "data.columns.tolist()\n",
    "data.head()\n"
   ]
  },
  {
   "cell_type": "code",
   "execution_count": 6,
   "metadata": {},
   "outputs": [
    {
     "name": "stdout",
     "output_type": "stream",
     "text": [
      "(1083818, 8)\n"
     ]
    }
   ],
   "source": [
    "#shape\n",
    "print(data.shape)"
   ]
  },
  {
   "cell_type": "code",
   "execution_count": 7,
   "metadata": {},
   "outputs": [
    {
     "name": "stdout",
     "output_type": "stream",
     "text": [
      "<class 'pandas.core.frame.DataFrame'>\n",
      "RangeIndex: 1083818 entries, 0 to 1083817\n",
      "Data columns (total 8 columns):\n",
      "UserId                    1083818 non-null int64\n",
      "TransactionId             1083818 non-null int64\n",
      "TransactionTime           1083818 non-null object\n",
      "ItemCode                  1083818 non-null int64\n",
      "ItemDescription           1080910 non-null object\n",
      "NumberOfItemsPurchased    1083818 non-null int64\n",
      "CostPerItem               1083818 non-null float64\n",
      "Country                   1083818 non-null object\n",
      "dtypes: float64(1), int64(4), object(3)\n",
      "memory usage: 53.7+ MB\n"
     ]
    }
   ],
   "source": [
    "#info\n",
    "data.info()"
   ]
  },
  {
   "cell_type": "code",
   "execution_count": 8,
   "metadata": {},
   "outputs": [
    {
     "data": {
      "text/plain": [
       "UserId                       0\n",
       "TransactionId                0\n",
       "TransactionTime              0\n",
       "ItemCode                     0\n",
       "ItemDescription           2908\n",
       "NumberOfItemsPurchased       0\n",
       "CostPerItem                  0\n",
       "Country                      0\n",
       "dtype: int64"
      ]
     },
     "execution_count": 8,
     "metadata": {},
     "output_type": "execute_result"
    }
   ],
   "source": [
    "#there are integers, null values, object, float in data\n",
    "#count of nullvalues\n",
    "data.isnull().sum()"
   ]
  },
  {
   "cell_type": "code",
   "execution_count": 9,
   "metadata": {},
   "outputs": [
    {
     "name": "stdout",
     "output_type": "stream",
     "text": [
      "Country\n",
      "United Kingdom          3951\n",
      "Germany                   95\n",
      "France                    88\n",
      "Spain                     31\n",
      "Belgium                   25\n",
      "Switzerland               22\n",
      "Portugal                  20\n",
      "Italy                     15\n",
      "Finland                   12\n",
      "Austria                   11\n",
      "Norway                    10\n",
      "Netherlands                9\n",
      "Australia                  9\n",
      "Channel Islands            9\n",
      "Denmark                    9\n",
      "Cyprus                     8\n",
      "Sweden                     8\n",
      "Japan                      8\n",
      "Poland                     6\n",
      "Unspecified                5\n",
      "Israel                     5\n",
      "Greece                     4\n",
      "USA                        4\n",
      "EIRE                       4\n",
      "Canada                     4\n",
      "Bahrain                    3\n",
      "United Arab Emirates       2\n",
      "Malta                      2\n",
      "Singapore                  1\n",
      "Brazil                     1\n",
      "Iceland                    1\n",
      "Saudi Arabia               1\n",
      "Hong Kong                  1\n",
      "RSA                        1\n",
      "European Community         1\n",
      "Lithuania                  1\n",
      "Lebanon                    1\n",
      "Czech Republic             1\n",
      "Name: UserId, dtype: int64\n"
     ]
    }
   ],
   "source": [
    "#lets try to group the customers based on country\n",
    "#count of customers in each country\n",
    "user_country = data[['Country','UserId']].drop_duplicates()\n",
    "print(user_country.groupby(['Country'])['UserId'].aggregate('count').sort_values(ascending=False))"
   ]
  },
  {
   "cell_type": "code",
   "execution_count": 10,
   "metadata": {},
   "outputs": [],
   "source": [
    "#majority of customers are from UK\n",
    "\n",
    "#lets consider UK data\n",
    "data = data[data['Country'] == 'United Kingdom']\n",
    "#lets drop description column\n",
    "data.drop(['ItemDescription'], axis=1, inplace = True)"
   ]
  },
  {
   "cell_type": "code",
   "execution_count": 11,
   "metadata": {},
   "outputs": [
    {
     "data": {
      "text/html": [
       "<div>\n",
       "<style scoped>\n",
       "    .dataframe tbody tr th:only-of-type {\n",
       "        vertical-align: middle;\n",
       "    }\n",
       "\n",
       "    .dataframe tbody tr th {\n",
       "        vertical-align: top;\n",
       "    }\n",
       "\n",
       "    .dataframe thead th {\n",
       "        text-align: right;\n",
       "    }\n",
       "</style>\n",
       "<table border=\"1\" class=\"dataframe\">\n",
       "  <thead>\n",
       "    <tr style=\"text-align: right;\">\n",
       "      <th></th>\n",
       "      <th>UserId</th>\n",
       "      <th>TransactionId</th>\n",
       "      <th>ItemCode</th>\n",
       "      <th>NumberOfItemsPurchased</th>\n",
       "      <th>CostPerItem</th>\n",
       "    </tr>\n",
       "  </thead>\n",
       "  <tbody>\n",
       "    <tr>\n",
       "      <td>count</td>\n",
       "      <td>990956.000000</td>\n",
       "      <td>9.909560e+05</td>\n",
       "      <td>9.909560e+05</td>\n",
       "      <td>990956.000000</td>\n",
       "      <td>9.909560e+05</td>\n",
       "    </tr>\n",
       "    <tr>\n",
       "      <td>mean</td>\n",
       "      <td>238466.593663</td>\n",
       "      <td>6.159170e+06</td>\n",
       "      <td>6.660664e+05</td>\n",
       "      <td>25.816458</td>\n",
       "      <td>9.683529e+00</td>\n",
       "    </tr>\n",
       "    <tr>\n",
       "      <td>std</td>\n",
       "      <td>147692.882732</td>\n",
       "      <td>1.485068e+05</td>\n",
       "      <td>4.582890e+05</td>\n",
       "      <td>682.765924</td>\n",
       "      <td>2.413716e+03</td>\n",
       "    </tr>\n",
       "    <tr>\n",
       "      <td>min</td>\n",
       "      <td>-1.000000</td>\n",
       "      <td>5.900015e+06</td>\n",
       "      <td>-1.000000e+00</td>\n",
       "      <td>-242985.000000</td>\n",
       "      <td>-1.526564e+04</td>\n",
       "    </tr>\n",
       "    <tr>\n",
       "      <td>25%</td>\n",
       "      <td>-1.000000</td>\n",
       "      <td>6.026350e+06</td>\n",
       "      <td>4.613070e+05</td>\n",
       "      <td>3.000000</td>\n",
       "      <td>1.730000e+00</td>\n",
       "    </tr>\n",
       "    <tr>\n",
       "      <td>50%</td>\n",
       "      <td>305172.000000</td>\n",
       "      <td>6.165544e+06</td>\n",
       "      <td>4.755240e+05</td>\n",
       "      <td>9.000000</td>\n",
       "      <td>2.900000e+00</td>\n",
       "    </tr>\n",
       "    <tr>\n",
       "      <td>75%</td>\n",
       "      <td>345345.000000</td>\n",
       "      <td>6.291615e+06</td>\n",
       "      <td>4.891950e+05</td>\n",
       "      <td>30.000000</td>\n",
       "      <td>5.700000e+00</td>\n",
       "    </tr>\n",
       "    <tr>\n",
       "      <td>max</td>\n",
       "      <td>384027.000000</td>\n",
       "      <td>6.397446e+06</td>\n",
       "      <td>1.894494e+06</td>\n",
       "      <td>242985.000000</td>\n",
       "      <td>1.696285e+06</td>\n",
       "    </tr>\n",
       "  </tbody>\n",
       "</table>\n",
       "</div>"
      ],
      "text/plain": [
       "              UserId  TransactionId      ItemCode  NumberOfItemsPurchased  \\\n",
       "count  990956.000000   9.909560e+05  9.909560e+05           990956.000000   \n",
       "mean   238466.593663   6.159170e+06  6.660664e+05               25.816458   \n",
       "std    147692.882732   1.485068e+05  4.582890e+05              682.765924   \n",
       "min        -1.000000   5.900015e+06 -1.000000e+00          -242985.000000   \n",
       "25%        -1.000000   6.026350e+06  4.613070e+05                3.000000   \n",
       "50%    305172.000000   6.165544e+06  4.755240e+05                9.000000   \n",
       "75%    345345.000000   6.291615e+06  4.891950e+05               30.000000   \n",
       "max    384027.000000   6.397446e+06  1.894494e+06           242985.000000   \n",
       "\n",
       "        CostPerItem  \n",
       "count  9.909560e+05  \n",
       "mean   9.683529e+00  \n",
       "std    2.413716e+03  \n",
       "min   -1.526564e+04  \n",
       "25%    1.730000e+00  \n",
       "50%    2.900000e+00  \n",
       "75%    5.700000e+00  \n",
       "max    1.696285e+06  "
      ]
     },
     "execution_count": 11,
     "metadata": {},
     "output_type": "execute_result"
    }
   ],
   "source": [
    "data.describe()"
   ]
  },
  {
   "cell_type": "code",
   "execution_count": 12,
   "metadata": {},
   "outputs": [
    {
     "data": {
      "text/html": [
       "<div>\n",
       "<style scoped>\n",
       "    .dataframe tbody tr th:only-of-type {\n",
       "        vertical-align: middle;\n",
       "    }\n",
       "\n",
       "    .dataframe tbody tr th {\n",
       "        vertical-align: top;\n",
       "    }\n",
       "\n",
       "    .dataframe thead th {\n",
       "        text-align: right;\n",
       "    }\n",
       "</style>\n",
       "<table border=\"1\" class=\"dataframe\">\n",
       "  <thead>\n",
       "    <tr style=\"text-align: right;\">\n",
       "      <th></th>\n",
       "      <th>UserId</th>\n",
       "      <th>TransactionId</th>\n",
       "      <th>ItemCode</th>\n",
       "      <th>NumberOfItemsPurchased</th>\n",
       "      <th>CostPerItem</th>\n",
       "    </tr>\n",
       "  </thead>\n",
       "  <tbody>\n",
       "    <tr>\n",
       "      <td>count</td>\n",
       "      <td>708030.000000</td>\n",
       "      <td>7.080300e+05</td>\n",
       "      <td>7.080300e+05</td>\n",
       "      <td>708030.00000</td>\n",
       "      <td>7.080300e+05</td>\n",
       "    </tr>\n",
       "    <tr>\n",
       "      <td>mean</td>\n",
       "      <td>326600.987026</td>\n",
       "      <td>6.167401e+06</td>\n",
       "      <td>6.527809e+05</td>\n",
       "      <td>36.01150</td>\n",
       "      <td>8.745864e+00</td>\n",
       "    </tr>\n",
       "    <tr>\n",
       "      <td>std</td>\n",
       "      <td>33484.046632</td>\n",
       "      <td>1.448567e+05</td>\n",
       "      <td>4.396272e+05</td>\n",
       "      <td>567.92372</td>\n",
       "      <td>2.850938e+03</td>\n",
       "    </tr>\n",
       "    <tr>\n",
       "      <td>min</td>\n",
       "      <td>259266.000000</td>\n",
       "      <td>5.900015e+06</td>\n",
       "      <td>4.200000e+01</td>\n",
       "      <td>3.00000</td>\n",
       "      <td>6.000000e-02</td>\n",
       "    </tr>\n",
       "    <tr>\n",
       "      <td>25%</td>\n",
       "      <td>298074.000000</td>\n",
       "      <td>6.041651e+06</td>\n",
       "      <td>4.626090e+05</td>\n",
       "      <td>6.00000</td>\n",
       "      <td>1.730000e+00</td>\n",
       "    </tr>\n",
       "    <tr>\n",
       "      <td>50%</td>\n",
       "      <td>325962.000000</td>\n",
       "      <td>6.180900e+06</td>\n",
       "      <td>4.760700e+05</td>\n",
       "      <td>12.00000</td>\n",
       "      <td>2.700000e+00</td>\n",
       "    </tr>\n",
       "    <tr>\n",
       "      <td>75%</td>\n",
       "      <td>355551.000000</td>\n",
       "      <td>6.295245e+06</td>\n",
       "      <td>4.891110e+05</td>\n",
       "      <td>36.00000</td>\n",
       "      <td>5.180000e+00</td>\n",
       "    </tr>\n",
       "    <tr>\n",
       "      <td>max</td>\n",
       "      <td>384027.000000</td>\n",
       "      <td>6.397446e+06</td>\n",
       "      <td>1.894494e+06</td>\n",
       "      <td>242985.00000</td>\n",
       "      <td>1.696285e+06</td>\n",
       "    </tr>\n",
       "  </tbody>\n",
       "</table>\n",
       "</div>"
      ],
      "text/plain": [
       "              UserId  TransactionId      ItemCode  NumberOfItemsPurchased  \\\n",
       "count  708030.000000   7.080300e+05  7.080300e+05            708030.00000   \n",
       "mean   326600.987026   6.167401e+06  6.527809e+05                36.01150   \n",
       "std     33484.046632   1.448567e+05  4.396272e+05               567.92372   \n",
       "min    259266.000000   5.900015e+06  4.200000e+01                 3.00000   \n",
       "25%    298074.000000   6.041651e+06  4.626090e+05                 6.00000   \n",
       "50%    325962.000000   6.180900e+06  4.760700e+05                12.00000   \n",
       "75%    355551.000000   6.295245e+06  4.891110e+05                36.00000   \n",
       "max    384027.000000   6.397446e+06  1.894494e+06            242985.00000   \n",
       "\n",
       "        CostPerItem  \n",
       "count  7.080300e+05  \n",
       "mean   8.745864e+00  \n",
       "std    2.850938e+03  \n",
       "min    6.000000e-02  \n",
       "25%    1.730000e+00  \n",
       "50%    2.700000e+00  \n",
       "75%    5.180000e+00  \n",
       "max    1.696285e+06  "
      ]
     },
     "execution_count": 12,
     "metadata": {},
     "output_type": "execute_result"
    }
   ],
   "source": [
    "#we can see there are negative values in UserID, Itemcode, items purchased and cost which is not realistic \n",
    "#so lets get the values that are greater than  0\n",
    "\n",
    "data = data[data['UserId']>0]\n",
    "data = data[data['ItemCode']>0]\n",
    "data = data[data['NumberOfItemsPurchased']>0]\n",
    "data = data[data['CostPerItem']>0]\n",
    "data.describe()"
   ]
  },
  {
   "cell_type": "code",
   "execution_count": null,
   "metadata": {},
   "outputs": [],
   "source": [
    "#lets convert the string Transaction date\n",
    "data['TransactionTime'] = pd.to_datetime(data['TransactionTime'])"
   ]
  },
  {
   "cell_type": "code",
   "execution_count": 14,
   "metadata": {},
   "outputs": [
    {
     "data": {
      "text/plain": [
       "(708030, 8)"
      ]
     },
     "execution_count": 14,
     "metadata": {},
     "output_type": "execute_result"
    }
   ],
   "source": [
    "#Now lets calculate total amount and make it into a new column\n",
    "data['TotalAmount'] = data['NumberOfItemsPurchased']*data['CostPerItem']\n",
    "data.shape"
   ]
  },
  {
   "cell_type": "code",
   "execution_count": 15,
   "metadata": {},
   "outputs": [
    {
     "data": {
      "text/html": [
       "<div>\n",
       "<style scoped>\n",
       "    .dataframe tbody tr th:only-of-type {\n",
       "        vertical-align: middle;\n",
       "    }\n",
       "\n",
       "    .dataframe tbody tr th {\n",
       "        vertical-align: top;\n",
       "    }\n",
       "\n",
       "    .dataframe thead th {\n",
       "        text-align: right;\n",
       "    }\n",
       "</style>\n",
       "<table border=\"1\" class=\"dataframe\">\n",
       "  <thead>\n",
       "    <tr style=\"text-align: right;\">\n",
       "      <th></th>\n",
       "      <th>UserId</th>\n",
       "      <th>TransactionId</th>\n",
       "      <th>TransactionTime</th>\n",
       "      <th>ItemCode</th>\n",
       "      <th>NumberOfItemsPurchased</th>\n",
       "      <th>CostPerItem</th>\n",
       "      <th>Country</th>\n",
       "      <th>TotalAmount</th>\n",
       "    </tr>\n",
       "  </thead>\n",
       "  <tbody>\n",
       "    <tr>\n",
       "      <td>0</td>\n",
       "      <td>278166</td>\n",
       "      <td>6355745</td>\n",
       "      <td>2019-02-02 12:50:00</td>\n",
       "      <td>465549</td>\n",
       "      <td>6</td>\n",
       "      <td>11.73</td>\n",
       "      <td>United Kingdom</td>\n",
       "      <td>70.38</td>\n",
       "    </tr>\n",
       "    <tr>\n",
       "      <td>1</td>\n",
       "      <td>337701</td>\n",
       "      <td>6283376</td>\n",
       "      <td>2018-12-26 09:06:00</td>\n",
       "      <td>482370</td>\n",
       "      <td>3</td>\n",
       "      <td>3.52</td>\n",
       "      <td>United Kingdom</td>\n",
       "      <td>10.56</td>\n",
       "    </tr>\n",
       "    <tr>\n",
       "      <td>3</td>\n",
       "      <td>380478</td>\n",
       "      <td>6044973</td>\n",
       "      <td>2018-06-22 07:14:00</td>\n",
       "      <td>459186</td>\n",
       "      <td>3</td>\n",
       "      <td>1.73</td>\n",
       "      <td>United Kingdom</td>\n",
       "      <td>5.19</td>\n",
       "    </tr>\n",
       "    <tr>\n",
       "      <td>5</td>\n",
       "      <td>285957</td>\n",
       "      <td>6307136</td>\n",
       "      <td>2019-01-11 09:50:00</td>\n",
       "      <td>1787247</td>\n",
       "      <td>12</td>\n",
       "      <td>3.52</td>\n",
       "      <td>United Kingdom</td>\n",
       "      <td>42.24</td>\n",
       "    </tr>\n",
       "    <tr>\n",
       "      <td>6</td>\n",
       "      <td>345954</td>\n",
       "      <td>6162981</td>\n",
       "      <td>2018-09-28 10:51:00</td>\n",
       "      <td>471576</td>\n",
       "      <td>9</td>\n",
       "      <td>6.84</td>\n",
       "      <td>United Kingdom</td>\n",
       "      <td>61.56</td>\n",
       "    </tr>\n",
       "  </tbody>\n",
       "</table>\n",
       "</div>"
      ],
      "text/plain": [
       "   UserId  TransactionId     TransactionTime  ItemCode  \\\n",
       "0  278166        6355745 2019-02-02 12:50:00    465549   \n",
       "1  337701        6283376 2018-12-26 09:06:00    482370   \n",
       "3  380478        6044973 2018-06-22 07:14:00    459186   \n",
       "5  285957        6307136 2019-01-11 09:50:00   1787247   \n",
       "6  345954        6162981 2018-09-28 10:51:00    471576   \n",
       "\n",
       "   NumberOfItemsPurchased  CostPerItem         Country  TotalAmount  \n",
       "0                       6        11.73  United Kingdom        70.38  \n",
       "1                       3         3.52  United Kingdom        10.56  \n",
       "3                       3         1.73  United Kingdom         5.19  \n",
       "5                      12         3.52  United Kingdom        42.24  \n",
       "6                       9         6.84  United Kingdom        61.56  "
      ]
     },
     "execution_count": 15,
     "metadata": {},
     "output_type": "execute_result"
    }
   ],
   "source": [
    "data.head()"
   ]
  },
  {
   "cell_type": "code",
   "execution_count": 16,
   "metadata": {},
   "outputs": [],
   "source": [
    "#Now we are going find RFM rate for the users\n",
    "import datetime as dt\n",
    "#To calculate the number of days from the recent purchase last date is 2-2-2019\n",
    "Last_date = dt.datetime(2019,2,20)"
   ]
  },
  {
   "cell_type": "code",
   "execution_count": 17,
   "metadata": {},
   "outputs": [],
   "source": [
    "#RFM rate for each customer\n",
    "RFM_rate = data.groupby('UserId').agg({'TransactionTime':lambda x:(Last_date-x.max()).days,'TransactionId' : lambda x: len(x), 'TotalAmount': lambda x:x.sum()})"
   ]
  },
  {
   "cell_type": "code",
   "execution_count": 18,
   "metadata": {},
   "outputs": [],
   "source": [
    "#converting Transaction time into int\n",
    "RFM_rate['TransactionTime'] = RFM_rate['TransactionTime'].astype(int)"
   ]
  },
  {
   "cell_type": "code",
   "execution_count": 19,
   "metadata": {},
   "outputs": [],
   "source": [
    "#lets name the columns as Recency, frequency, monetary\n",
    "RFM_rate.rename(columns={'TransactionTime':'Recency', 'TransactionId':'Frequency', 'TotalAmount':'Monetary'}, inplace=True)\n"
   ]
  },
  {
   "cell_type": "code",
   "execution_count": 20,
   "metadata": {},
   "outputs": [
    {
     "data": {
      "text/html": [
       "<div>\n",
       "<style scoped>\n",
       "    .dataframe tbody tr th:only-of-type {\n",
       "        vertical-align: middle;\n",
       "    }\n",
       "\n",
       "    .dataframe tbody tr th {\n",
       "        vertical-align: top;\n",
       "    }\n",
       "\n",
       "    .dataframe thead th {\n",
       "        text-align: right;\n",
       "    }\n",
       "</style>\n",
       "<table border=\"1\" class=\"dataframe\">\n",
       "  <thead>\n",
       "    <tr style=\"text-align: right;\">\n",
       "      <th></th>\n",
       "      <th>UserId</th>\n",
       "      <th>Recency</th>\n",
       "      <th>Frequency</th>\n",
       "      <th>Monetary</th>\n",
       "    </tr>\n",
       "  </thead>\n",
       "  <tbody>\n",
       "    <tr>\n",
       "      <td>0</td>\n",
       "      <td>259266</td>\n",
       "      <td>324</td>\n",
       "      <td>2</td>\n",
       "      <td>641217.60</td>\n",
       "    </tr>\n",
       "    <tr>\n",
       "      <td>1</td>\n",
       "      <td>267687</td>\n",
       "      <td>1</td>\n",
       "      <td>206</td>\n",
       "      <td>34785.78</td>\n",
       "    </tr>\n",
       "    <tr>\n",
       "      <td>2</td>\n",
       "      <td>267708</td>\n",
       "      <td>-3286</td>\n",
       "      <td>9160</td>\n",
       "      <td>268210.08</td>\n",
       "    </tr>\n",
       "    <tr>\n",
       "      <td>3</td>\n",
       "      <td>267729</td>\n",
       "      <td>2</td>\n",
       "      <td>398</td>\n",
       "      <td>33914.88</td>\n",
       "    </tr>\n",
       "    <tr>\n",
       "      <td>4</td>\n",
       "      <td>269220</td>\n",
       "      <td>2</td>\n",
       "      <td>118</td>\n",
       "      <td>7821.24</td>\n",
       "    </tr>\n",
       "  </tbody>\n",
       "</table>\n",
       "</div>"
      ],
      "text/plain": [
       "   UserId  Recency  Frequency   Monetary\n",
       "0  259266      324          2  641217.60\n",
       "1  267687        1        206   34785.78\n",
       "2  267708    -3286       9160  268210.08\n",
       "3  267729        2        398   33914.88\n",
       "4  269220        2        118    7821.24"
      ]
     },
     "execution_count": 20,
     "metadata": {},
     "output_type": "execute_result"
    }
   ],
   "source": [
    "RFM_rate.reset_index().head()"
   ]
  },
  {
   "cell_type": "code",
   "execution_count": 21,
   "metadata": {},
   "outputs": [],
   "source": [
    "RFM_rate = RFM_rate[RFM_rate['Recency']>0]"
   ]
  },
  {
   "cell_type": "code",
   "execution_count": 22,
   "metadata": {},
   "outputs": [
    {
     "data": {
      "text/html": [
       "<div>\n",
       "<style scoped>\n",
       "    .dataframe tbody tr th:only-of-type {\n",
       "        vertical-align: middle;\n",
       "    }\n",
       "\n",
       "    .dataframe tbody tr th {\n",
       "        vertical-align: top;\n",
       "    }\n",
       "\n",
       "    .dataframe thead th {\n",
       "        text-align: right;\n",
       "    }\n",
       "</style>\n",
       "<table border=\"1\" class=\"dataframe\">\n",
       "  <thead>\n",
       "    <tr style=\"text-align: right;\">\n",
       "      <th></th>\n",
       "      <th>Recency</th>\n",
       "      <th>Frequency</th>\n",
       "      <th>Monetary</th>\n",
       "    </tr>\n",
       "  </thead>\n",
       "  <tbody>\n",
       "    <tr>\n",
       "      <td>count</td>\n",
       "      <td>3735.000000</td>\n",
       "      <td>3735.000000</td>\n",
       "      <td>3.735000e+03</td>\n",
       "    </tr>\n",
       "    <tr>\n",
       "      <td>mean</td>\n",
       "      <td>94.099866</td>\n",
       "      <td>160.620080</td>\n",
       "      <td>3.409072e+04</td>\n",
       "    </tr>\n",
       "    <tr>\n",
       "      <td>std</td>\n",
       "      <td>99.569571</td>\n",
       "      <td>295.094874</td>\n",
       "      <td>1.332467e+06</td>\n",
       "    </tr>\n",
       "    <tr>\n",
       "      <td>min</td>\n",
       "      <td>1.000000</td>\n",
       "      <td>2.000000</td>\n",
       "      <td>3.114000e+01</td>\n",
       "    </tr>\n",
       "    <tr>\n",
       "      <td>25%</td>\n",
       "      <td>18.000000</td>\n",
       "      <td>32.000000</td>\n",
       "      <td>2.409690e+03</td>\n",
       "    </tr>\n",
       "    <tr>\n",
       "      <td>50%</td>\n",
       "      <td>52.000000</td>\n",
       "      <td>78.000000</td>\n",
       "      <td>5.160840e+03</td>\n",
       "    </tr>\n",
       "    <tr>\n",
       "      <td>75%</td>\n",
       "      <td>150.000000</td>\n",
       "      <td>186.000000</td>\n",
       "      <td>1.222950e+04</td>\n",
       "    </tr>\n",
       "    <tr>\n",
       "      <td>max</td>\n",
       "      <td>372.000000</td>\n",
       "      <td>10190.000000</td>\n",
       "      <td>8.142170e+07</td>\n",
       "    </tr>\n",
       "  </tbody>\n",
       "</table>\n",
       "</div>"
      ],
      "text/plain": [
       "           Recency     Frequency      Monetary\n",
       "count  3735.000000   3735.000000  3.735000e+03\n",
       "mean     94.099866    160.620080  3.409072e+04\n",
       "std      99.569571    295.094874  1.332467e+06\n",
       "min       1.000000      2.000000  3.114000e+01\n",
       "25%      18.000000     32.000000  2.409690e+03\n",
       "50%      52.000000     78.000000  5.160840e+03\n",
       "75%     150.000000    186.000000  1.222950e+04\n",
       "max     372.000000  10190.000000  8.142170e+07"
      ]
     },
     "execution_count": 22,
     "metadata": {},
     "output_type": "execute_result"
    }
   ],
   "source": [
    "RFM_rate.describe()"
   ]
  },
  {
   "cell_type": "code",
   "execution_count": 23,
   "metadata": {},
   "outputs": [],
   "source": [
    "#visualizing the data\n",
    "import matplotlib.pyplot as plt\n",
    "import seaborn as sns\n",
    "ax = sns.distplot(RFM_rate.Recency)"
   ]
  },
  {
   "cell_type": "code",
   "execution_count": 24,
   "metadata": {},
   "outputs": [
    {
     "data": {
      "image/png": "[encoded data removed]",
      "text/plain": [
       "<Figure size 432x288 with 1 Axes>"
      ]
     },
     "metadata": {
      "needs_background": "light"
     },
     "output_type": "display_data"
    }
   ],
   "source": [
    "ax = sns.distplot(RFM_rate.Frequency)"
   ]
  },
  {
   "cell_type": "code",
   "execution_count": 25,
   "metadata": {},
   "outputs": [
    {
     "data": {
      "image/png": "[encoded data removed]",
      "text/plain": [
       "<Figure size 432x288 with 1 Axes>"
      ]
     },
     "metadata": {
      "needs_background": "light"
     },
     "output_type": "display_data"
    }
   ],
   "source": [
    "ax = sns.distplot(RFM_rate.Monetary)"
   ]
  },
  {
   "cell_type": "code",
   "execution_count": 26,
   "metadata": {},
   "outputs": [
    {
     "data": {
      "image/png": "[encoded data removed]",
      "text/plain": [
       "<Figure size 432x288 with 1 Axes>"
      ]
     },
     "metadata": {
      "needs_background": "light"
     },
     "output_type": "display_data"
    }
   ],
   "source": [
    "x = RFM_rate[RFM_rate.Frequency < 1000]\n",
    "ax = sns.distplot(x.Frequency)"
   ]
  },
  {
   "cell_type": "code",
   "execution_count": 27,
   "metadata": {},
   "outputs": [
    {
     "data": {
      "image/png": "[encoded data removed]",
      "text/plain": [
       "<Figure size 432x288 with 1 Axes>"
      ]
     },
     "metadata": {
      "needs_background": "light"
     },
     "output_type": "display_data"
    }
   ],
   "source": [
    "x = RFM_rate[RFM_rate.Monetary < 1000]\n",
    "ax = sns.distplot(x.Monetary)"
   ]
  },
  {
   "cell_type": "code",
   "execution_count": 28,
   "metadata": {},
   "outputs": [
    {
     "data": {
      "text/plain": [
       "{'Recency': {0.25: 18.0, 0.5: 52.0, 0.75: 150.0},\n",
       " 'Frequency': {0.25: 32.0, 0.5: 78.0, 0.75: 186.0},\n",
       " 'Monetary': {0.25: 2409.6899999999996, 0.5: 5160.839999999999, 0.75: 12229.5}}"
      ]
     },
     "execution_count": 28,
     "metadata": {},
     "output_type": "execute_result"
    }
   ],
   "source": [
    "#now lets split the data into four segments\n",
    "data_quantiles = RFM_rate.quantile([0.25,0.5,0.75])\n",
    "data_quantiles.to_dict()"
   ]
  },
  {
   "cell_type": "code",
   "execution_count": 29,
   "metadata": {},
   "outputs": [],
   "source": [
    "#to create segments of Receny and frequency\n",
    "\n",
    "def Recency_score(x,p,d):\n",
    "    if x <= d[p][0.25]:\n",
    "        return 1\n",
    "    elif x <= d[p][0.5]:\n",
    "        return 2\n",
    "    elif x <= d[p][0.75]:\n",
    "        return 3\n",
    "    else:\n",
    "        return 4\n",
    "    \n",
    "def Frequency_score(x,p,d):\n",
    "    if x <= d[p][0.25]:\n",
    "        return 4\n",
    "    elif x <= d[p][0.5]:\n",
    "        return 3\n",
    "    elif x <= d[p][0.75]:\n",
    "        return 2\n",
    "    else:\n",
    "        return 1\n",
    "\n",
    "    "
   ]
  },
  {
   "cell_type": "code",
   "execution_count": 30,
   "metadata": {},
   "outputs": [],
   "source": [
    "#lets calculate R, F, M values for the data and make them into a new columns\n",
    "RFM_rate['R'] = RFM_rate['Recency'].apply(Recency_score, args =('Recency',data_quantiles,))\n",
    "RFM_rate['F'] = RFM_rate['Frequency'].apply(Frequency_score, args =('Frequency',data_quantiles,))\n",
    "RFM_rate['M'] = RFM_rate['Monetary'].apply(Frequency_score, args =('Monetary',data_quantiles,))"
   ]
  },
  {
   "cell_type": "code",
   "execution_count": 31,
   "metadata": {},
   "outputs": [
    {
     "data": {
      "text/html": [
       "<div>\n",
       "<style scoped>\n",
       "    .dataframe tbody tr th:only-of-type {\n",
       "        vertical-align: middle;\n",
       "    }\n",
       "\n",
       "    .dataframe tbody tr th {\n",
       "        vertical-align: top;\n",
       "    }\n",
       "\n",
       "    .dataframe thead th {\n",
       "        text-align: right;\n",
       "    }\n",
       "</style>\n",
       "<table border=\"1\" class=\"dataframe\">\n",
       "  <thead>\n",
       "    <tr style=\"text-align: right;\">\n",
       "      <th></th>\n",
       "      <th>Recency</th>\n",
       "      <th>Frequency</th>\n",
       "      <th>Monetary</th>\n",
       "      <th>R</th>\n",
       "      <th>F</th>\n",
       "      <th>M</th>\n",
       "    </tr>\n",
       "    <tr>\n",
       "      <th>UserId</th>\n",
       "      <th></th>\n",
       "      <th></th>\n",
       "      <th></th>\n",
       "      <th></th>\n",
       "      <th></th>\n",
       "      <th></th>\n",
       "    </tr>\n",
       "  </thead>\n",
       "  <tbody>\n",
       "    <tr>\n",
       "      <td>259266</td>\n",
       "      <td>324</td>\n",
       "      <td>2</td>\n",
       "      <td>641217.60</td>\n",
       "      <td>4</td>\n",
       "      <td>4</td>\n",
       "      <td>1</td>\n",
       "    </tr>\n",
       "    <tr>\n",
       "      <td>267687</td>\n",
       "      <td>1</td>\n",
       "      <td>206</td>\n",
       "      <td>34785.78</td>\n",
       "      <td>1</td>\n",
       "      <td>1</td>\n",
       "      <td>1</td>\n",
       "    </tr>\n",
       "    <tr>\n",
       "      <td>267729</td>\n",
       "      <td>2</td>\n",
       "      <td>398</td>\n",
       "      <td>33914.88</td>\n",
       "      <td>1</td>\n",
       "      <td>1</td>\n",
       "      <td>1</td>\n",
       "    </tr>\n",
       "    <tr>\n",
       "      <td>269220</td>\n",
       "      <td>2</td>\n",
       "      <td>118</td>\n",
       "      <td>7821.24</td>\n",
       "      <td>1</td>\n",
       "      <td>2</td>\n",
       "      <td>2</td>\n",
       "    </tr>\n",
       "    <tr>\n",
       "      <td>269241</td>\n",
       "      <td>213</td>\n",
       "      <td>12</td>\n",
       "      <td>769.56</td>\n",
       "      <td>4</td>\n",
       "      <td>4</td>\n",
       "      <td>4</td>\n",
       "    </tr>\n",
       "  </tbody>\n",
       "</table>\n",
       "</div>"
      ],
      "text/plain": [
       "        Recency  Frequency   Monetary  R  F  M\n",
       "UserId                                        \n",
       "259266      324          2  641217.60  4  4  1\n",
       "267687        1        206   34785.78  1  1  1\n",
       "267729        2        398   33914.88  1  1  1\n",
       "269220        2        118    7821.24  1  2  2\n",
       "269241      213         12     769.56  4  4  4"
      ]
     },
     "execution_count": 31,
     "metadata": {},
     "output_type": "execute_result"
    }
   ],
   "source": [
    "RFM_rate.head()"
   ]
  },
  {
   "cell_type": "code",
   "execution_count": 32,
   "metadata": {},
   "outputs": [],
   "source": [
    "#Now lets get RFM value and make a new coloumn for it\n",
    "RFM_rate['RFMvalue'] = RFM_rate[['R','F','M']].sum(axis = 1)"
   ]
  },
  {
   "cell_type": "code",
   "execution_count": 33,
   "metadata": {},
   "outputs": [
    {
     "data": {
      "text/html": [
       "<div>\n",
       "<style scoped>\n",
       "    .dataframe tbody tr th:only-of-type {\n",
       "        vertical-align: middle;\n",
       "    }\n",
       "\n",
       "    .dataframe tbody tr th {\n",
       "        vertical-align: top;\n",
       "    }\n",
       "\n",
       "    .dataframe thead th {\n",
       "        text-align: right;\n",
       "    }\n",
       "</style>\n",
       "<table border=\"1\" class=\"dataframe\">\n",
       "  <thead>\n",
       "    <tr style=\"text-align: right;\">\n",
       "      <th></th>\n",
       "      <th>Recency</th>\n",
       "      <th>Frequency</th>\n",
       "      <th>Monetary</th>\n",
       "      <th>R</th>\n",
       "      <th>F</th>\n",
       "      <th>M</th>\n",
       "      <th>RFMvalue</th>\n",
       "    </tr>\n",
       "    <tr>\n",
       "      <th>UserId</th>\n",
       "      <th></th>\n",
       "      <th></th>\n",
       "      <th></th>\n",
       "      <th></th>\n",
       "      <th></th>\n",
       "      <th></th>\n",
       "      <th></th>\n",
       "    </tr>\n",
       "  </thead>\n",
       "  <tbody>\n",
       "    <tr>\n",
       "      <td>259266</td>\n",
       "      <td>324</td>\n",
       "      <td>2</td>\n",
       "      <td>641217.60</td>\n",
       "      <td>4</td>\n",
       "      <td>4</td>\n",
       "      <td>1</td>\n",
       "      <td>9</td>\n",
       "    </tr>\n",
       "    <tr>\n",
       "      <td>267687</td>\n",
       "      <td>1</td>\n",
       "      <td>206</td>\n",
       "      <td>34785.78</td>\n",
       "      <td>1</td>\n",
       "      <td>1</td>\n",
       "      <td>1</td>\n",
       "      <td>3</td>\n",
       "    </tr>\n",
       "    <tr>\n",
       "      <td>267729</td>\n",
       "      <td>2</td>\n",
       "      <td>398</td>\n",
       "      <td>33914.88</td>\n",
       "      <td>1</td>\n",
       "      <td>1</td>\n",
       "      <td>1</td>\n",
       "      <td>3</td>\n",
       "    </tr>\n",
       "    <tr>\n",
       "      <td>269220</td>\n",
       "      <td>2</td>\n",
       "      <td>118</td>\n",
       "      <td>7821.24</td>\n",
       "      <td>1</td>\n",
       "      <td>2</td>\n",
       "      <td>2</td>\n",
       "      <td>5</td>\n",
       "    </tr>\n",
       "    <tr>\n",
       "      <td>269241</td>\n",
       "      <td>213</td>\n",
       "      <td>12</td>\n",
       "      <td>769.56</td>\n",
       "      <td>4</td>\n",
       "      <td>4</td>\n",
       "      <td>4</td>\n",
       "      <td>12</td>\n",
       "    </tr>\n",
       "  </tbody>\n",
       "</table>\n",
       "</div>"
      ],
      "text/plain": [
       "        Recency  Frequency   Monetary  R  F  M  RFMvalue\n",
       "UserId                                                  \n",
       "259266      324          2  641217.60  4  4  1         9\n",
       "267687        1        206   34785.78  1  1  1         3\n",
       "267729        2        398   33914.88  1  1  1         3\n",
       "269220        2        118    7821.24  1  2  2         5\n",
       "269241      213         12     769.56  4  4  4        12"
      ]
     },
     "execution_count": 33,
     "metadata": {},
     "output_type": "execute_result"
    }
   ],
   "source": [
    "RFM_rate.head()"
   ]
  },
  {
   "cell_type": "code",
   "execution_count": 34,
   "metadata": {},
   "outputs": [],
   "source": [
    "#Now we are going to use K-mean clustering alogarithm for clustering\n",
    "#using logarithmic function for normalizing the data\n",
    "#firstly lets remove zero values from data\n",
    "def removeZero(val):\n",
    "    if val <= 0:\n",
    "        return 1\n",
    "    else:\n",
    "        return val\n",
    "RFM_rate['Recency'] = [removeZero(i) for i in RFM_rate['Recency']]\n",
    "RFM_rate['Frequency'] = [removeZero(i) for i in RFM_rate['Frequency']]\n",
    "RFM_rate['Monetary'] = [removeZero(i) for i in RFM_rate['Monetary']]"
   ]
  },
  {
   "cell_type": "code",
   "execution_count": 35,
   "metadata": {},
   "outputs": [],
   "source": [
    "log_data = RFM_rate[['Recency','Frequency','Monetary']].apply(np.log, axis=1).round(1)"
   ]
  },
  {
   "cell_type": "code",
   "execution_count": 36,
   "metadata": {},
   "outputs": [
    {
     "data": {
      "text/plain": [
       "<matplotlib.axes._subplots.AxesSubplot at 0xf282e50>"
      ]
     },
     "execution_count": 36,
     "metadata": {},
     "output_type": "execute_result"
    },
    {
     "data": {
      "image/png": "[encoded data removed]",
      "text/plain": [
       "<Figure size 432x288 with 1 Axes>"
      ]
     },
     "metadata": {
      "needs_background": "light"
     },
     "output_type": "display_data"
    }
   ],
   "source": [
    "sns.distplot(log_data.Recency)"
   ]
  },
  {
   "cell_type": "code",
   "execution_count": 37,
   "metadata": {},
   "outputs": [
    {
     "data": {
      "image/png": "[encoded data removed]",
      "text/plain": [
       "<Figure size 432x288 with 1 Axes>"
      ]
     },
     "metadata": {
      "needs_background": "light"
     },
     "output_type": "display_data"
    }
   ],
   "source": [
    "x = log_data[log_data.Frequency < 1000]\n",
    "ax = sns.distplot(x.Frequency)"
   ]
  },
  {
   "cell_type": "code",
   "execution_count": 38,
   "metadata": {},
   "outputs": [
    {
     "data": {
      "image/png": "[encoded data removed]",
      "text/plain": [
       "<Figure size 432x288 with 1 Axes>"
      ]
     },
     "metadata": {
      "needs_background": "light"
     },
     "output_type": "display_data"
    }
   ],
   "source": [
    "x = log_data[log_data.Monetary < 1000]\n",
    "ax = sns.distplot(x.Monetary)"
   ]
  },
  {
   "cell_type": "code",
   "execution_count": 39,
   "metadata": {},
   "outputs": [],
   "source": [
    "#the ranges of data of recency , frequency, monetary are different lets make them for the same scale\n",
    "from sklearn.preprocessing import StandardScaler\n",
    "scale = StandardScaler()\n",
    "scaled_data = scale.fit_transform(log_data)"
   ]
  },
  {
   "cell_type": "code",
   "execution_count": 40,
   "metadata": {},
   "outputs": [],
   "source": [
    "scaled_data = pd.DataFrame(scaled_data, index = RFM_rate.index , columns = log_data.columns)"
   ]
  },
  {
   "cell_type": "code",
   "execution_count": 41,
   "metadata": {},
   "outputs": [
    {
     "data": {
      "image/png": "[encoded data removed]",
      "text/plain": [
       "<Figure size 432x288 with 1 Axes>"
      ]
     },
     "metadata": {
      "needs_background": "light"
     },
     "output_type": "display_data"
    }
   ],
   "source": [
    "x = scaled_data[scaled_data.Monetary < 1000]\n",
    "ax = sns.distplot(x.Monetary)"
   ]
  },
  {
   "cell_type": "code",
   "execution_count": 42,
   "metadata": {},
   "outputs": [
    {
     "data": {
      "image/png": "[encoded data removed]",
      "text/plain": [
       "<Figure size 432x288 with 1 Axes>"
      ]
     },
     "metadata": {
      "needs_background": "light"
     },
     "output_type": "display_data"
    }
   ],
   "source": [
    "#now we can impliment KMEANS algorithm\n",
    "#we use elbow method to choose the optimal number of clusters\n",
    "from sklearn.cluster import KMeans\n",
    "\n",
    "inertia_val = {}\n",
    "for i in range(1,12):\n",
    "    km = KMeans(n_clusters = i,init='k-means++', max_iter=1000)\n",
    "    km = km.fit(scaled_data)\n",
    "    inertia_val[i] = km.inertia_\n",
    "\n",
    "sns.pointplot(x = list(inertia_val.keys()), y =list(inertia_val.values()) )\n",
    "plt.xlabel('Number of clusters')\n",
    "plt.ylabel('inertia/ sum of squares')\n",
    "plt.title('Elbow method')\n",
    "plt.show()\n",
    "    \n"
   ]
  },
  {
   "cell_type": "code",
   "execution_count": 43,
   "metadata": {},
   "outputs": [
    {
     "data": {
      "text/html": [
       "<div>\n",
       "<style scoped>\n",
       "    .dataframe tbody tr th:only-of-type {\n",
       "        vertical-align: middle;\n",
       "    }\n",
       "\n",
       "    .dataframe tbody tr th {\n",
       "        vertical-align: top;\n",
       "    }\n",
       "\n",
       "    .dataframe thead th {\n",
       "        text-align: right;\n",
       "    }\n",
       "</style>\n",
       "<table border=\"1\" class=\"dataframe\">\n",
       "  <thead>\n",
       "    <tr style=\"text-align: right;\">\n",
       "      <th></th>\n",
       "      <th>UserId</th>\n",
       "      <th>Recency</th>\n",
       "      <th>Frequency</th>\n",
       "      <th>Monetary</th>\n",
       "      <th>Cluster</th>\n",
       "    </tr>\n",
       "  </thead>\n",
       "  <tbody>\n",
       "    <tr>\n",
       "      <td>0</td>\n",
       "      <td>259266</td>\n",
       "      <td>1.411726</td>\n",
       "      <td>-2.757000</td>\n",
       "      <td>3.971392</td>\n",
       "      <td>0</td>\n",
       "    </tr>\n",
       "    <tr>\n",
       "      <td>1</td>\n",
       "      <td>267687</td>\n",
       "      <td>-2.702216</td>\n",
       "      <td>0.763529</td>\n",
       "      <td>1.573039</td>\n",
       "      <td>1</td>\n",
       "    </tr>\n",
       "    <tr>\n",
       "      <td>2</td>\n",
       "      <td>267729</td>\n",
       "      <td>-2.205706</td>\n",
       "      <td>1.299262</td>\n",
       "      <td>1.490338</td>\n",
       "      <td>1</td>\n",
       "    </tr>\n",
       "    <tr>\n",
       "      <td>3</td>\n",
       "      <td>269220</td>\n",
       "      <td>-2.205706</td>\n",
       "      <td>0.380863</td>\n",
       "      <td>0.332512</td>\n",
       "      <td>1</td>\n",
       "    </tr>\n",
       "    <tr>\n",
       "      <td>4</td>\n",
       "      <td>269241</td>\n",
       "      <td>1.128006</td>\n",
       "      <td>-1.379401</td>\n",
       "      <td>-1.652331</td>\n",
       "      <td>2</td>\n",
       "    </tr>\n",
       "  </tbody>\n",
       "</table>\n",
       "</div>"
      ],
      "text/plain": [
       "   UserId   Recency  Frequency  Monetary  Cluster\n",
       "0  259266  1.411726  -2.757000  3.971392        0\n",
       "1  267687 -2.702216   0.763529  1.573039        1\n",
       "2  267729 -2.205706   1.299262  1.490338        1\n",
       "3  269220 -2.205706   0.380863  0.332512        1\n",
       "4  269241  1.128006  -1.379401 -1.652331        2"
      ]
     },
     "execution_count": 43,
     "metadata": {},
     "output_type": "execute_result"
    }
   ],
   "source": [
    "kmean = KMeans(n_clusters = 3,init='k-means++', max_iter=1000)\n",
    "kmean.fit(scaled_data)\n",
    "\n",
    "#lets get the labels into a new column\n",
    "scaled_data['Cluster'] = kmean.labels_\n",
    "scaled_data.reset_index().head()"
   ]
  },
  {
   "cell_type": "code",
   "execution_count": 44,
   "metadata": {},
   "outputs": [],
   "source": [
    "segmentation = pd.DataFrame(scaled_data['Cluster'], index=scaled_data.index)"
   ]
  },
  {
   "cell_type": "code",
   "execution_count": 45,
   "metadata": {},
   "outputs": [
    {
     "data": {
      "text/html": [
       "<div>\n",
       "<style scoped>\n",
       "    .dataframe tbody tr th:only-of-type {\n",
       "        vertical-align: middle;\n",
       "    }\n",
       "\n",
       "    .dataframe tbody tr th {\n",
       "        vertical-align: top;\n",
       "    }\n",
       "\n",
       "    .dataframe thead th {\n",
       "        text-align: right;\n",
       "    }\n",
       "</style>\n",
       "<table border=\"1\" class=\"dataframe\">\n",
       "  <thead>\n",
       "    <tr style=\"text-align: right;\">\n",
       "      <th></th>\n",
       "      <th>Cluster</th>\n",
       "    </tr>\n",
       "    <tr>\n",
       "      <th>UserId</th>\n",
       "      <th></th>\n",
       "    </tr>\n",
       "  </thead>\n",
       "  <tbody>\n",
       "    <tr>\n",
       "      <td>259266</td>\n",
       "      <td>0</td>\n",
       "    </tr>\n",
       "    <tr>\n",
       "      <td>267687</td>\n",
       "      <td>1</td>\n",
       "    </tr>\n",
       "    <tr>\n",
       "      <td>267729</td>\n",
       "      <td>1</td>\n",
       "    </tr>\n",
       "    <tr>\n",
       "      <td>269220</td>\n",
       "      <td>1</td>\n",
       "    </tr>\n",
       "    <tr>\n",
       "      <td>269241</td>\n",
       "      <td>2</td>\n",
       "    </tr>\n",
       "  </tbody>\n",
       "</table>\n",
       "</div>"
      ],
      "text/plain": [
       "        Cluster\n",
       "UserId         \n",
       "259266        0\n",
       "267687        1\n",
       "267729        1\n",
       "269220        1\n",
       "269241        2"
      ]
     },
     "execution_count": 45,
     "metadata": {},
     "output_type": "execute_result"
    }
   ],
   "source": [
    "segmentation.head()"
   ]
  },
  {
   "cell_type": "code",
   "execution_count": 46,
   "metadata": {},
   "outputs": [],
   "source": [
    "segmentation.to_csv('USER_SEGMENTATION.csv', index=True)"
   ]
  },
  {
   "cell_type": "code",
   "execution_count": null,
   "metadata": {},
   "outputs": [],
   "source": []
  },
  {
   "cell_type": "code",
   "execution_count": 48,
   "metadata": {},
   "outputs": [
    {
     "data": {
      "text/html": [
       "<div>\n",
       "<style scoped>\n",
       "    .dataframe tbody tr th:only-of-type {\n",
       "        vertical-align: middle;\n",
       "    }\n",
       "\n",
       "    .dataframe tbody tr th {\n",
       "        vertical-align: top;\n",
       "    }\n",
       "\n",
       "    .dataframe thead th {\n",
       "        text-align: right;\n",
       "    }\n",
       "</style>\n",
       "<table border=\"1\" class=\"dataframe\">\n",
       "  <thead>\n",
       "    <tr style=\"text-align: right;\">\n",
       "      <th></th>\n",
       "      <th>Recency</th>\n",
       "      <th>Frequency</th>\n",
       "      <th>Monetary</th>\n",
       "      <th>R</th>\n",
       "      <th>F</th>\n",
       "      <th>M</th>\n",
       "      <th>RFMvalue</th>\n",
       "      <th>Cluster</th>\n",
       "    </tr>\n",
       "    <tr>\n",
       "      <th>UserId</th>\n",
       "      <th></th>\n",
       "      <th></th>\n",
       "      <th></th>\n",
       "      <th></th>\n",
       "      <th></th>\n",
       "      <th></th>\n",
       "      <th></th>\n",
       "      <th></th>\n",
       "    </tr>\n",
       "  </thead>\n",
       "  <tbody>\n",
       "    <tr>\n",
       "      <td>259266</td>\n",
       "      <td>324</td>\n",
       "      <td>2</td>\n",
       "      <td>641217.60</td>\n",
       "      <td>4</td>\n",
       "      <td>4</td>\n",
       "      <td>1</td>\n",
       "      <td>9</td>\n",
       "      <td>0</td>\n",
       "    </tr>\n",
       "    <tr>\n",
       "      <td>267687</td>\n",
       "      <td>1</td>\n",
       "      <td>206</td>\n",
       "      <td>34785.78</td>\n",
       "      <td>1</td>\n",
       "      <td>1</td>\n",
       "      <td>1</td>\n",
       "      <td>3</td>\n",
       "      <td>1</td>\n",
       "    </tr>\n",
       "    <tr>\n",
       "      <td>267729</td>\n",
       "      <td>2</td>\n",
       "      <td>398</td>\n",
       "      <td>33914.88</td>\n",
       "      <td>1</td>\n",
       "      <td>1</td>\n",
       "      <td>1</td>\n",
       "      <td>3</td>\n",
       "      <td>1</td>\n",
       "    </tr>\n",
       "    <tr>\n",
       "      <td>269220</td>\n",
       "      <td>2</td>\n",
       "      <td>118</td>\n",
       "      <td>7821.24</td>\n",
       "      <td>1</td>\n",
       "      <td>2</td>\n",
       "      <td>2</td>\n",
       "      <td>5</td>\n",
       "      <td>1</td>\n",
       "    </tr>\n",
       "    <tr>\n",
       "      <td>269241</td>\n",
       "      <td>213</td>\n",
       "      <td>12</td>\n",
       "      <td>769.56</td>\n",
       "      <td>4</td>\n",
       "      <td>4</td>\n",
       "      <td>4</td>\n",
       "      <td>12</td>\n",
       "      <td>2</td>\n",
       "    </tr>\n",
       "  </tbody>\n",
       "</table>\n",
       "</div>"
      ],
      "text/plain": [
       "        Recency  Frequency   Monetary  R  F  M  RFMvalue  Cluster\n",
       "UserId                                                           \n",
       "259266      324          2  641217.60  4  4  1         9        0\n",
       "267687        1        206   34785.78  1  1  1         3        1\n",
       "267729        2        398   33914.88  1  1  1         3        1\n",
       "269220        2        118    7821.24  1  2  2         5        1\n",
       "269241      213         12     769.56  4  4  4        12        2"
      ]
     },
     "execution_count": 48,
     "metadata": {},
     "output_type": "execute_result"
    }
   ],
   "source": [
    "RFM_rate['Cluster'] = scaled_data['Cluster']\n",
    "RFM_rate.head()"
   ]
  },
  {
   "cell_type": "code",
   "execution_count": null,
   "metadata": {},
   "outputs": [],
   "source": []
  }
 ],
 "metadata": {
  "kernelspec": {
   "display_name": "Python 3",
   "language": "python",
   "name": "python3"
  },
  "language_info": {
   "codemirror_mode": {
    "name": "ipython",
    "version": 3
   },
   "file_extension": ".py",
   "mimetype": "text/x-python",
   "name": "python",
   "nbconvert_exporter": "python",
   "pygments_lexer": "ipython3",
   "version": "3.7.4"
  }
 },
 "nbformat": 4,
 "nbformat_minor": 2
}
